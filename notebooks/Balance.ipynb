{
 "cells": [
  {
   "cell_type": "code",
   "execution_count": null,
   "id": "loaded-spencer",
   "metadata": {},
   "outputs": [],
   "source": [
    "import pandas as pd"
   ]
  },
  {
   "cell_type": "code",
   "execution_count": null,
   "id": "enhanced-reliance",
   "metadata": {},
   "outputs": [],
   "source": [
    "!ls"
   ]
  },
  {
   "cell_type": "code",
   "execution_count": null,
   "id": "asian-possibility",
   "metadata": {},
   "outputs": [],
   "source": [
    "df = pd.read_csv('../balance.csv')"
   ]
  },
  {
   "cell_type": "code",
   "execution_count": null,
   "id": "retained-unemployment",
   "metadata": {},
   "outputs": [],
   "source": [
    "df.head()"
   ]
  },
  {
   "cell_type": "code",
   "execution_count": null,
   "id": "textile-pollution",
   "metadata": {},
   "outputs": [],
   "source": [
    "balance_df = df"
   ]
  },
  {
   "cell_type": "code",
   "execution_count": null,
   "id": "apparent-qualification",
   "metadata": {},
   "outputs": [],
   "source": [
    "balance_df['balance'].abs().min()"
   ]
  },
  {
   "cell_type": "code",
   "execution_count": null,
   "id": "finite-gateway",
   "metadata": {},
   "outputs": [],
   "source": [
    "balance_df[balance_df['balance'].abs() == balance_df['balance'].abs().min()]['age'].values[0]"
   ]
  },
  {
   "cell_type": "code",
   "execution_count": null,
   "id": "certified-cattle",
   "metadata": {},
   "outputs": [],
   "source": []
  }
 ],
 "metadata": {
  "kernelspec": {
   "display_name": "Python 3",
   "language": "python",
   "name": "python3"
  },
  "language_info": {
   "codemirror_mode": {
    "name": "ipython",
    "version": 3
   },
   "file_extension": ".py",
   "mimetype": "text/x-python",
   "name": "python",
   "nbconvert_exporter": "python",
   "pygments_lexer": "ipython3",
   "version": "3.8.8"
  }
 },
 "nbformat": 4,
 "nbformat_minor": 5
}
