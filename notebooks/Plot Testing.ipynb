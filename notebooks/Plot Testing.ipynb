{
 "cells": [
  {
   "cell_type": "code",
   "execution_count": null,
   "id": "personalized-patrol",
   "metadata": {},
   "outputs": [],
   "source": [
    "import plotly.express as px"
   ]
  },
  {
   "cell_type": "code",
   "execution_count": null,
   "id": "otherwise-reconstruction",
   "metadata": {},
   "outputs": [],
   "source": [
    "import pandas as pd"
   ]
  },
  {
   "cell_type": "code",
   "execution_count": null,
   "id": "yellow-opinion",
   "metadata": {},
   "outputs": [],
   "source": [
    "import plotly.graph_objects as go"
   ]
  },
  {
   "cell_type": "code",
   "execution_count": null,
   "id": "three-neutral",
   "metadata": {},
   "outputs": [],
   "source": [
    "df = pd.read_csv('transaction.csv')"
   ]
  },
  {
   "cell_type": "code",
   "execution_count": null,
   "id": "potential-player",
   "metadata": {},
   "outputs": [],
   "source": [
    "df.head()"
   ]
  },
  {
   "cell_type": "code",
   "execution_count": null,
   "id": "functioning-strengthening",
   "metadata": {},
   "outputs": [],
   "source": [
    "transaction_df = df"
   ]
  },
  {
   "cell_type": "code",
   "execution_count": null,
   "id": "excess-headquarters",
   "metadata": {},
   "outputs": [],
   "source": [
    "income = df[df['type'] == 'income']"
   ]
  },
  {
   "cell_type": "code",
   "execution_count": null,
   "id": "suburban-cross",
   "metadata": {},
   "outputs": [],
   "source": [
    "income_by_date = df[df['type'] == 'income'].groupby('age').sum().reset_index(drop=False)"
   ]
  },
  {
   "cell_type": "code",
   "execution_count": null,
   "id": "paperback-implementation",
   "metadata": {},
   "outputs": [],
   "source": [
    "expenses = transaction_df[transaction_df['type'] == 'expense']\n",
    "fig = px.bar(\n",
    "    expenses, \n",
    "    x='age', \n",
    "    y='value', \n",
    "    color='name',\n",
    "    title='Expense Over Time',\n",
    "    facet_row='type',\n",
    "    range_x=[35,100],\n",
    ")\n",
    "fig.add_trace(\n",
    "    go.Scatter(\n",
    "        x=income_by_date['age'].values,\n",
    "        y=income_by_date['value'].values,\n",
    "        name='Total Income',\n",
    "    ))\n",
    "fig.show()"
   ]
  },
  {
   "cell_type": "code",
   "execution_count": null,
   "id": "defined-plastic",
   "metadata": {},
   "outputs": [],
   "source": []
  }
 ],
 "metadata": {
  "kernelspec": {
   "display_name": "Python 3",
   "language": "python",
   "name": "python3"
  },
  "language_info": {
   "codemirror_mode": {
    "name": "ipython",
    "version": 3
   },
   "file_extension": ".py",
   "mimetype": "text/x-python",
   "name": "python",
   "nbconvert_exporter": "python",
   "pygments_lexer": "ipython3",
   "version": "3.8.8"
  }
 },
 "nbformat": 4,
 "nbformat_minor": 5
}
