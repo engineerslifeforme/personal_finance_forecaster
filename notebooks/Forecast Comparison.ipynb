{
 "cells": [
  {
   "cell_type": "code",
   "execution_count": null,
   "id": "coupled-beaver",
   "metadata": {},
   "outputs": [],
   "source": [
    "import yaml"
   ]
  },
  {
   "cell_type": "code",
   "execution_count": null,
   "id": "mounted-wildlife",
   "metadata": {},
   "outputs": [],
   "source": [
    "import pandas"
   ]
  },
  {
   "cell_type": "code",
   "execution_count": null,
   "id": "previous-friday",
   "metadata": {},
   "outputs": [],
   "source": [
    "from pathlib import Path"
   ]
  },
  {
   "cell_type": "code",
   "execution_count": null,
   "id": "selected-count",
   "metadata": {},
   "outputs": [],
   "source": [
    "forecast_paths = [\n",
    "    '../default.yaml',\n",
    "    '../../forecast.yml'\n",
    "]\n",
    "forecasts = []\n",
    "for path in forecast_paths:\n",
    "    with open(path, 'r') as fh:\n",
    "        forecasts.append((\n",
    "            Path(path).stem, \n",
    "            yaml.safe_load(fh.read())\n",
    "        ))"
   ]
  },
  {
   "cell_type": "code",
   "execution_count": null,
   "id": "severe-joshua",
   "metadata": {},
   "outputs": [],
   "source": [
    "def create_transaction(amount, meta_list=None):\n",
    "    item = {'value': amount}\n",
    "    for meta in meta_list:\n",
    "        for key in meta:\n",
    "            item[key] = meta[key]\n",
    "    return item"
   ]
  },
  {
   "cell_type": "code",
   "execution_count": null,
   "id": "arabic-occurrence",
   "metadata": {},
   "outputs": [],
   "source": [
    "def future_value(investment, rate, periods):\n",
    "    \"\"\" Compute future value\n",
    "\n",
    "    :param investment: base amount\n",
    "    :type investment: decimal\n",
    "    :param rate: rate of change per period\n",
    "    :type rate: decimal\n",
    "    :param periods: number of periods into future\n",
    "    :type periods: int\n",
    "    :return: new future value\n",
    "    :rtype: decimal\n",
    "\n",
    "    https://www.investopedia.com/terms/f/futurevalue.asp#:~:text=Future%20value%20(FV)%20is%20the,be%20worth%20in%20the%20future.\n",
    "    \"\"\"\n",
    "    return investment * (1 + (rate * periods))"
   ]
  },
  {
   "cell_type": "code",
   "execution_count": null,
   "id": "impaired-boston",
   "metadata": {},
   "outputs": [],
   "source": [
    "def assess(config):\n",
    "    \"\"\" Run forecast over time according to config\n",
    "\n",
    "    :param config_content: YAML configuration\n",
    "    :type config_content: str\n",
    "    :return: forecast dataframe\n",
    "    :rtype: pandas dataframe\n",
    "    \"\"\"\n",
    "\n",
    "    #config = yaml.load(config_content, Loader=yaml.SafeLoader)\n",
    "    \n",
    "    start_age = config['start_age']\n",
    "    current_age = start_age\n",
    "    current_month = config['start_month']\n",
    "    current_year = config['start_year']\n",
    "    balance = config['start_balance']\n",
    "    stop_age = config['stop_age']\n",
    "\n",
    "    balance_list = []\n",
    "    transaction_list = []\n",
    "\n",
    "    period_count = 0\n",
    "    while current_age <= stop_age:\n",
    "        while current_month <= 12:\n",
    "            precise_age = current_age + (current_month - 1) / 12.0\n",
    "            time_meta = {\n",
    "                'age': current_age + (current_month - 1) / 12.0,\n",
    "                'year': current_year,\n",
    "                'month': current_month,\n",
    "                'period': period_count,\n",
    "            }\n",
    "            appreciation = (config['returns'] / 12.0) * balance\n",
    "            transaction_list.append(create_transaction(appreciation, [\n",
    "                time_meta,\n",
    "                {'name': 'balance_appreciation', 'type': 'income'}\n",
    "            ]))\n",
    "            balance += appreciation\n",
    "            if 'income' in config:\n",
    "                for income in config['income']:\n",
    "                    income_stop_age = income.get('stop_age', stop_age + 1) # default never stop\n",
    "                    if current_age <= income_stop_age:\n",
    "                        income_amount = future_value(\n",
    "                            income['amount'],\n",
    "                            config['inflation'] / 12.0,\n",
    "                            period_count\n",
    "                        )\n",
    "                        transaction_list.append(create_transaction(income_amount, [\n",
    "                            time_meta,\n",
    "                            {'name': income['name'], 'type': 'income'}\n",
    "                        ]))\n",
    "                        tax = income.get('tax', 0.0) * income_amount\n",
    "                        if tax > 0.0:\n",
    "                            transaction_list.append(create_transaction(tax, [\n",
    "                                time_meta,\n",
    "                                {'name': income['name']+'_tax', 'type': 'expense'}\n",
    "                            ]))\n",
    "                            income_amount = income_amount - tax\n",
    "                        balance += income_amount\n",
    "            if 'expenses' in config:\n",
    "                for expense in config['expenses']:\n",
    "                    expense_stop_age = expense.get('stop_age', stop_age + 1) # default never stop\n",
    "                    expense_start_age = expense.get('start_age', start_age)\n",
    "                    record_transaction = True\n",
    "                    if 'one_time' in expense:\n",
    "                        if expense['one_time'] != precise_age:\n",
    "                            record_transaction = False        \n",
    "                    else:\n",
    "                        if current_age <= expense_stop_age and current_age >= expense_start_age:\n",
    "                            pass\n",
    "                        else:\n",
    "                            record_transaction = False\n",
    "                    inflate = expense.get('inflate', True)\n",
    "                    expense_amount = expense['amount']\n",
    "                    if inflate:\n",
    "                        expense_amount = future_value(\n",
    "                            expense_amount,\n",
    "                            config['inflation'] / 12.0,\n",
    "                            period_count\n",
    "                        )\n",
    "                    if record_transaction:\n",
    "                        transaction_list.append(create_transaction(expense_amount, [\n",
    "                            time_meta,\n",
    "                            {'name': expense['name'], 'type': 'expense'}\n",
    "                        ]))\n",
    "                        balance -= expense_amount\n",
    "            if 'assets' in config:\n",
    "                pass\n",
    "            balance_list.append({\n",
    "                'balance': balance,\n",
    "                'date': '{}-{}'.format(current_year, current_month),\n",
    "                'age': precise_age,\n",
    "            })\n",
    "            current_month += 1\n",
    "            period_count += 1\n",
    "        current_month = 1\n",
    "        current_age += 1\n",
    "        current_year += 1\n",
    "\n",
    "    return pandas.DataFrame(balance_list), pandas.DataFrame(transaction_list), config"
   ]
  },
  {
   "cell_type": "code",
   "execution_count": null,
   "id": "residential-arnold",
   "metadata": {},
   "outputs": [],
   "source": [
    "balances = []\n",
    "transactions = []\n",
    "for label, forecast in forecasts:\n",
    "    balance, transaction, _ = assess(forecast)\n",
    "    balance['source'] = label\n",
    "    transaction['source'] = label\n",
    "    balances.append(balance)\n",
    "    transactions.append(transaction)"
   ]
  },
  {
   "cell_type": "code",
   "execution_count": null,
   "id": "following-wages",
   "metadata": {},
   "outputs": [],
   "source": [
    "all_balance = pandas.concat(balances)\n",
    "all_transaction = pandas.concat(transactions)"
   ]
  },
  {
   "cell_type": "code",
   "execution_count": null,
   "id": "canadian-warrior",
   "metadata": {},
   "outputs": [],
   "source": [
    "import plotly.express as px"
   ]
  },
  {
   "cell_type": "code",
   "execution_count": null,
   "id": "alone-gilbert",
   "metadata": {},
   "outputs": [],
   "source": [
    "px.bar(\n",
    "    all_balance,\n",
    "    x='age',\n",
    "    y='balance',\n",
    "    color='source'\n",
    ")"
   ]
  },
  {
   "cell_type": "code",
   "execution_count": null,
   "id": "other-kitchen",
   "metadata": {},
   "outputs": [],
   "source": [
    "px.line(\n",
    "    all_transaction[all_transaction['type'] == 'income'],\n",
    "    x='age',\n",
    "    y='value',\n",
    "    color='source'\n",
    ")"
   ]
  },
  {
   "cell_type": "code",
   "execution_count": null,
   "id": "specific-prison",
   "metadata": {},
   "outputs": [],
   "source": [
    "expenses = all_transaction[all_transaction['type'] == 'expense']\n",
    "expenses[['age', 'value', 'source']].groupby(['age', 'source']).sum()"
   ]
  },
  {
   "cell_type": "code",
   "execution_count": null,
   "id": "noted-diploma",
   "metadata": {},
   "outputs": [],
   "source": [
    "expenses"
   ]
  },
  {
   "cell_type": "code",
   "execution_count": null,
   "id": "sticky-audit",
   "metadata": {},
   "outputs": [],
   "source": [
    "all_transaction[all_transaction['source'] == 'forecast'].head(40)"
   ]
  },
  {
   "cell_type": "code",
   "execution_count": null,
   "id": "afraid-holly",
   "metadata": {},
   "outputs": [],
   "source": []
  }
 ],
 "metadata": {
  "kernelspec": {
   "display_name": "Python 3",
   "language": "python",
   "name": "python3"
  },
  "language_info": {
   "codemirror_mode": {
    "name": "ipython",
    "version": 3
   },
   "file_extension": ".py",
   "mimetype": "text/x-python",
   "name": "python",
   "nbconvert_exporter": "python",
   "pygments_lexer": "ipython3",
   "version": "3.8.8"
  }
 },
 "nbformat": 4,
 "nbformat_minor": 5
}
